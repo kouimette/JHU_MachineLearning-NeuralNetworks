{
 "cells": [
  {
   "cell_type": "markdown",
   "metadata": {},
   "source": [
    "# Clustering "
   ]
  },
  {
   "cell_type": "markdown",
   "metadata": {},
   "source": [
    "## 1. DBSCAN\n",
    "Using DBSCAN iterate (for-loop) through different values of `min_samples` (1 to 10) and `epsilon` (.05 to .5, in steps of .01)  to find clusters in the road-data used in the Lesson and calculate the Silohouette Coeff for `min_samples` and `epsilon`. Plot **_one_** line plot with the multiple lines generated from the min_samples and epsilon values. Use a 2D array to store the SilCoeff values, one dimension represents `min_samples`, the other represents epsilon.\n",
    "\n",
    "Expecting a plot of `epsilon` vs `sil_score`."
   ]
  },
  {
   "cell_type": "code",
   "execution_count": 1,
   "metadata": {},
   "outputs": [],
   "source": [
    "# Loading packages \n",
    "\n",
    "import pandas as pd\n",
    "import numpy as np\n",
    "%matplotlib notebook\n",
    "import matplotlib.pyplot as plt\n",
    "import seaborn\n",
    "from mpl_toolkits.mplot3d import Axes3D\n",
    "plt.rcParams['font.size'] = 14\n",
    "# plt.rcParams['figure.figsize'] = (20.0, 10.0)\n",
    "from sklearn.cluster import DBSCAN\n",
    "from sklearn.metrics import silhouette_score"
   ]
  },
  {
   "cell_type": "code",
   "execution_count": null,
   "metadata": {},
   "outputs": [],
   "source": [
    "# Reading in road data \n",
    "X = pd.read_csv('3D_spatial_network.txt.gz', header=None, names=['osm', 'lat','lon','alt'])\n",
    "X = X.drop(['osm'], axis=1).sample(10000)\n",
    "X.head()"
   ]
  },
  {
   "cell_type": "code",
   "execution_count": null,
   "metadata": {},
   "outputs": [],
   "source": [
    "# Setting up ranges for min_samples and epsilon\n",
    "min_samples = np.arange(1,11,1)\n",
    "epsilons = np.arange(0.05, 0.51, 0.01)"
   ]
  },
  {
   "cell_type": "code",
   "execution_count": null,
   "metadata": {},
   "outputs": [],
   "source": [
    "all_scores = []\n",
    "for min_sample in min_samples:\n",
    "    scores = []\n",
    "    for epsilon in epsilons:\n",
    "        \n",
    "        # Applying DBSCAN\n",
    "        dbscan = DBSCAN(eps=epsilon, min_samples=min_sample)\n",
    "        labels = dbscan.fit_predict(X)\n",
    "\n",
    "        # calculate silouette score here\n",
    "        score = silhouette_score(X, labels)\n",
    "        \n",
    "        scores.append(score)\n",
    "        \n",
    "    all_scores.append(scores)"
   ]
  },
  {
   "cell_type": "code",
   "execution_count": null,
   "metadata": {},
   "outputs": [],
   "source": [
    "# Setting up ranges for min_samples and epsilon\n",
    "min_samples = np.arange(1, 11, 1)\n",
    "epsilons = np.arange(0.05, 0.51, 0.01)\n",
    "\n",
    "# Initializing a 2D array to store the silhouette scores\n",
    "silhouette_scores = np.zeros((len(min_samples), len(epsilons)))\n",
    "\n",
    "# Iterating through the values of min_samples and epsilon\n",
    "for i, min_sample in enumerate(min_samples):\n",
    "    for j, epsilon in enumerate(epsilons):\n",
    "        # Applying DBSCAN\n",
    "        dbscan = DBSCAN(eps=epsilon, min_samples=min_sample)\n",
    "        labels = dbscan.fit_predict(X)\n",
    "        \n",
    "        # Checking if the number of clusters is less than 2\n",
    "        if len(set(labels)) > 1:\n",
    "            # Calculating the Silhouette Coefficient\n",
    "            score = silhouette_score(X, labels)\n",
    "        else:\n",
    "            score = -1  # Assigning a score of -1 if the number of clusters is less than 2\n",
    "        \n",
    "        # Storing the score in the array\n",
    "        silhouette_scores[i, j] = score\n",
    "\n",
    "# Plotting the results\n",
    "plt.figure(figsize=(12, 8))\n",
    "for i, min_sample in enumerate(min_samples):\n",
    "    plt.plot(epsilons, silhouette_scores[i], label=f'min_samples={min_sample}')\n",
    "\n",
    "plt.xlabel('Epsilon')\n",
    "plt.ylabel('Silhouette Coefficient')\n",
    "plt.title('Silhouette Coefficient for different values of min_samples and epsilon')\n",
    "plt.legend()\n",
    "plt.show()"
   ]
  },
  {
   "cell_type": "code",
   "execution_count": null,
   "metadata": {},
   "outputs": [],
   "source": [
    "# Plotting the results\n",
    "plt.figure(figsize=(12, 8))\n",
    "for i, min_sample in enumerate(min_samples):\n",
    "    plt.plot(epsilons, silhouette_scores[i], label=f'min_samples={min_sample}')\n",
    "\n",
    "plt.xlabel('Epsilon')\n",
    "plt.ylabel('Silhouette Coefficient')\n",
    "plt.title('Silhouette Coefficient for different values of min_samples and epsilon')\n",
    "plt.legend()\n",
    "plt.show()"
   ]
  },
  {
   "cell_type": "markdown",
   "metadata": {},
   "source": [
    "## 2. Clustering your own data\n",
    "Using your own data, find relevant clusters/groups within your data (repeat the above). If your data is labeled with a class that you are attempting to predict, be sure to not use it in training and clustering. \n",
    "\n",
    "You may use the labels to compare with predictions to show how well the clustering performed using one of the clustering metrics (http://scikit-learn.org/stable/modules/clustering.html#clustering-performance-evaluation). \n",
    "\n",
    "If you don't have labels, use the silhouette coefficient to show performance. Find the optimal fit for your data but you don't need to be as exhaustive as above.\n",
    "\n",
    "Additionally, show the clusters in 2D or 3D plots. \n",
    "\n",
    "As a bonus, try using PCA first to condense your data from N columns to less than N.\n",
    "\n",
    "Two items are expected: \n",
    "- Metric Evaluation Plot (like in 1.)\n",
    "- Plots of the clustered data"
   ]
  },
  {
   "cell_type": "code",
   "execution_count": null,
   "metadata": {},
   "outputs": [],
   "source": []
  },
  {
   "cell_type": "code",
   "execution_count": null,
   "metadata": {},
   "outputs": [],
   "source": []
  }
 ],
 "metadata": {
  "kernelspec": {
   "display_name": "Python 3 (ipykernel)",
   "language": "python",
   "name": "python3"
  },
  "language_info": {
   "codemirror_mode": {
    "name": "ipython",
    "version": 3
   },
   "file_extension": ".py",
   "mimetype": "text/x-python",
   "name": "python",
   "nbconvert_exporter": "python",
   "pygments_lexer": "ipython3",
   "version": "3.10.9"
  }
 },
 "nbformat": 4,
 "nbformat_minor": 2
}
