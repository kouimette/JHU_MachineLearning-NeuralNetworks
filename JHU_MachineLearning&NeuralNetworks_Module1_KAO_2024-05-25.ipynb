{
 "cells": [
  {
   "cell_type": "markdown",
   "id": "9f07b578",
   "metadata": {},
   "source": [
    "## Module 1 - Setting Up Jupyter Notebooks Environment\n",
    "Create a new Jupyter Notebook (review week1 - jupyter notebook lecture)\n",
    "\n",
    "1. Write and execute a few python commands to get a feel for the environment.\n",
    "2. Read at the keyboard shortcuts help.\n",
    "3. Submit (see below) the notebook to this assignment.\n",
    "4. Bonus: Create your own portfolio repository in GitHub. Push this new Notebook into your new repo online. Submit the link to your GitHub repo via course site comment with your submission\n",
    "\n",
    "Complete and execute all the cells in the notebook. Submit: 1) the notebook file (.ipynb) along with 2) a printed PDF from chrome/firefox/safari browser"
   ]
  },
  {
   "cell_type": "code",
   "execution_count": 6,
   "id": "376eef2a",
   "metadata": {
    "scrolled": true
   },
   "outputs": [
    {
     "name": "stdout",
     "output_type": "stream",
     "text": [
      "Welcome to Machine Learning & Neural Networks\n"
     ]
    }
   ],
   "source": [
    "# Printing phrase\n",
    "print(\"Welcome to Machine Learning & Neural Networks\")"
   ]
  },
  {
   "cell_type": "code",
   "execution_count": 32,
   "id": "8f7e5147",
   "metadata": {},
   "outputs": [],
   "source": [
    "# Installing packages \n",
    "import numpy as np\n",
    "import pandas as pd\n",
    "import matplotlib.pyplot as plt"
   ]
  },
  {
   "cell_type": "code",
   "execution_count": 18,
   "id": "fbae6744",
   "metadata": {},
   "outputs": [
    {
     "name": "stdout",
     "output_type": "stream",
     "text": [
      "Original array: [1 2 3 4 5]\n",
      "10 -5 11 8.333333333333334\n"
     ]
    },
    {
     "data": {
      "text/plain": [
       "array([ 1,  4,  9, 16, 25])"
      ]
     },
     "execution_count": 18,
     "metadata": {},
     "output_type": "execute_result"
    }
   ],
   "source": [
    "# NUMPY\n",
    "\n",
    "# Creating an array\n",
    "array = np.array([1, 2, 3, 4, 5])\n",
    "print(\"Original array:\", array)\n",
    "\n",
    "# Performing basic math\n",
    "print(2*5, 2-7, 4+7, 50/6)\n",
    "\n",
    "# Squaring all numbers in the array\n",
    "array**2"
   ]
  },
  {
   "cell_type": "code",
   "execution_count": 24,
   "id": "5010e203",
   "metadata": {},
   "outputs": [
    {
     "name": "stdout",
     "output_type": "stream",
     "text": [
      "DataFrame:\n",
      "      Name  Age         City\n",
      "0   Kevin   26  Belchertown\n",
      "1     Kim   25       Palmer\n",
      "2    Lexi   32      Orlando\n",
      "3  Dwayne   28  Charlestown\n",
      "4    Naia   23      El Paso\n",
      "Mean age: 26.8\n",
      "Filtered DataFrame (Age > 25):\n",
      "      Name  Age         City\n",
      "0   Kevin   26  Belchertown\n",
      "2    Lexi   32      Orlando\n",
      "3  Dwayne   28  Charlestown\n",
      "DataFrame with new column:\n",
      "      Name  Age         City  Age in 10 Years\n",
      "0   Kevin   26  Belchertown               36\n",
      "1     Kim   25       Palmer               35\n",
      "2    Lexi   32      Orlando               42\n",
      "3  Dwayne   28  Charlestown               38\n",
      "4    Naia   23      El Paso               33\n"
     ]
    }
   ],
   "source": [
    "# PANDAS\n",
    "\n",
    "# Creating a data frame \n",
    "data = {\n",
    "    'Name': ['Kevin', 'Kim', 'Lexi', 'Dwayne', 'Naia'],\n",
    "    'Age': [26, 25, 32, 28, 23],\n",
    "    'City': ['Belchertown', 'Palmer', 'Orlando', 'Charlestown', 'El Paso']\n",
    "}\n",
    "df = pd.DataFrame(data)\n",
    "print(\"DataFrame:\\n\", df)\n",
    "\n",
    "# Basic operations\n",
    "mean_age = df['Age'].mean()\n",
    "print(\"Mean age:\", mean_age)\n",
    "\n",
    "# Filtering data\n",
    "filtered_df = df[df['Age'] > 25]\n",
    "print(\"Filtered DataFrame (Age > 25):\\n\", filtered_df)\n",
    "\n",
    "# Adding a new column\n",
    "df['Age in 10 Years'] = df['Age'] + 10\n",
    "print(\"DataFrame with new column:\\n\", df)"
   ]
  },
  {
   "cell_type": "code",
   "execution_count": 36,
   "id": "9c3e8269",
   "metadata": {},
   "outputs": [
    {
     "data": {
      "image/png": "[encoded data removed]",
      "text/plain": [
       "<Figure size 640x480 with 1 Axes>"
      ]
     },
     "metadata": {},
     "output_type": "display_data"
    }
   ],
   "source": [
    "# MATPLOTLIB\n",
    "\n",
    "# Extracting data for the bar chart\n",
    "names = df['Name']\n",
    "ages = df['Age']\n",
    "\n",
    "# Create a bar chart\n",
    "plt.bar(names, ages, color='MAROON')\n",
    "plt.title('Ages of Individuals')\n",
    "plt.xlabel('Name')\n",
    "plt.ylabel('Age')\n",
    "plt.show()"
   ]
  }
 ],
 "metadata": {
  "kernelspec": {
   "display_name": "Python 3 (ipykernel)",
   "language": "python",
   "name": "python3"
  },
  "language_info": {
   "codemirror_mode": {
    "name": "ipython",
    "version": 3
   },
   "file_extension": ".py",
   "mimetype": "text/x-python",
   "name": "python",
   "nbconvert_exporter": "python",
   "pygments_lexer": "ipython3",
   "version": "3.10.9"
  }
 },
 "nbformat": 4,
 "nbformat_minor": 5
}
